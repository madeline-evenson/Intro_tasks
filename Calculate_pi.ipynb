{
 "cells": [
  {
   "cell_type": "code",
   "execution_count": 31,
   "id": "acd012b5-e8c9-42d6-ba77-83b4ec13ffcf",
   "metadata": {},
   "outputs": [
    {
     "name": "stdout",
     "output_type": "stream",
     "text": [
      "3.1406708\n"
     ]
    }
   ],
   "source": [
    "import random\n",
    "import math\n",
    "import matplotlib.pyplot as plt\n",
    "\n",
    "total_counts = 10000000\n",
    "\n",
    "def pi_estimate():\n",
    "    num_counts = 0\n",
    "    num_inside_circle = 0\n",
    "    for i in range(total_counts):\n",
    "        x = random.random()\n",
    "        y = random.random()\n",
    "        num_counts += 1\n",
    "        distance = math.sqrt(x**2 + y**2)\n",
    "        if distance < 1:\n",
    "            num_inside_circle += 1\n",
    "        pi = 4 * (num_inside_circle / total_counts)\n",
    "    return pi\n",
    "\n",
    "print(pi_estimate())"
   ]
  },
  {
   "cell_type": "code",
   "execution_count": null,
   "id": "9db5421a-688d-4582-a1ea-2716f67a73e3",
   "metadata": {},
   "outputs": [],
   "source": []
  }
 ],
 "metadata": {
  "kernelspec": {
   "display_name": "Python 3 (ipykernel)",
   "language": "python",
   "name": "python3"
  },
  "language_info": {
   "codemirror_mode": {
    "name": "ipython",
    "version": 3
   },
   "file_extension": ".py",
   "mimetype": "text/x-python",
   "name": "python",
   "nbconvert_exporter": "python",
   "pygments_lexer": "ipython3",
   "version": "3.10.14"
  }
 },
 "nbformat": 4,
 "nbformat_minor": 5
}
